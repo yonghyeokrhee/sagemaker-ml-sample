{
 "cells": [
  {
   "cell_type": "code",
   "execution_count": 1,
   "id": "random-designer",
   "metadata": {},
   "outputs": [],
   "source": [
    "import sagemaker"
   ]
  },
  {
   "cell_type": "markdown",
   "id": "knowing-handbook",
   "metadata": {},
   "source": [
    "- open a Sagemaker Session"
   ]
  },
  {
   "cell_type": "code",
   "execution_count": 2,
   "id": "romantic-regard",
   "metadata": {},
   "outputs": [],
   "source": [
    "sess = sagemaker.Session()\n",
    "bucket = sess.default_bucket()                "
   ]
  },
  {
   "cell_type": "markdown",
   "id": "ranking-vegetation",
   "metadata": {},
   "source": [
    "- now *sagemaker-ap-northeast-2-227927015541* is a default S3 bucket"
   ]
  },
  {
   "cell_type": "code",
   "execution_count": null,
   "id": "posted-convert",
   "metadata": {},
   "outputs": [],
   "source": []
  }
 ],
 "metadata": {
  "kernelspec": {
   "display_name": "conda_python3",
   "language": "python",
   "name": "conda_python3"
  },
  "language_info": {
   "codemirror_mode": {
    "name": "ipython",
    "version": 3
   },
   "file_extension": ".py",
   "mimetype": "text/x-python",
   "name": "python",
   "nbconvert_exporter": "python",
   "pygments_lexer": "ipython3",
   "version": "3.6.10"
  }
 },
 "nbformat": 4,
 "nbformat_minor": 5
}

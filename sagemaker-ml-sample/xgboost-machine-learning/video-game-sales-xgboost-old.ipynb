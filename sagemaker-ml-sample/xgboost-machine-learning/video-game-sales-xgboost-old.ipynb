{
 "cells": [
  {
   "cell_type": "markdown",
   "metadata": {},
   "source": [
    "# 리뷰 데이터를 통해 제품 성공 예측하기 \n",
    "\n",
    "_**매출이 \"Hit\"임계치를 초과할지를 예측하기 위해 XGBoost 이용하기   [(원본)](https://github.com/jihys/sagemaker-workshop-0809/blob/master/module2-video-game-sales-xgboost.ipynb)**_\n",
    "\n",
    "---\n",
    "\n",
    "## 목차\n",
    "\n",
    "1. [배경](#배경)\n",
    "1. [설정](#설정)\n",
    "1. [데이터](#데이터)\n",
    "1. [훈련](#훈련)\n",
    "1. [호스트](#호스트)\n",
    "1. [평가](#평가)\n",
    "1. [확장](#확장)\n",
    "1. [정리](#정리)\n",
    "\n",
    "\n",
    "## 배경\n",
    "\n",
    "사용자 리뷰, 비평 리뷰, 소셜 미디어 댓글 등의 입소문은 종종 제품이 궁극적으로 성공할것인지에 대한 인사이트를 제공할 수 있습니다. 특히 비디오 게임 업계에서는 리뷰와 평가가 게임의 성공에 큰 영향을 줄 수 있습니다. 그러나 나쁜 리뷰의 게임이 모두 실패하는 것이 아니고 또한 좋은 리뷰의 게임이 hit가 되는 것 또한 아닙니다. hit게임을 예측하기 위해서는 기계학습 알고리즘은 리뷰와 함께 잠재적인 다양한 관련 데이터의 특성을 이용할 수 있습니다. \n",
    "\n",
    "이 노트북에서는 Kaggle의 [Video Game Sales with Ratings](https://www.kaggle.com/rush4ratio/video-game-sales-with-ratings) 데이터셋을 사용할 것입니다. 이 데이터셋은 [Metacritic](http://www.metacritic.com/browse/games/release-date/available)와 user review, 뿐만 아니라 critic review와 ESRB ratings과 다른 것들을 포함하고 있습니다. user review와 critic review는 rating score 형식으로서 0에서 10, 또는 0에서 100까지 척도로 되어있습니다. 이것들은 편리하지만 데이터셋의 중대한 문제는 상대적으로 작다는 것입니다.\n",
    "\n",
    "이와 같이 작은 데이터셋을 다루는 것은 기계학습에서 공통적인 문제입니다. 이 문제는 종종 작은 데이터셋의 클래스간의 불균형으로 인해 악화되기도 합니다. 이러한 상황해서 앙상블 학습을 사용하는 것은 좋은 선택입니다. 이 노트북에서는 앙상블 Learner인 XGBoost를 사용하여, 게임의 hit 여부를 판단하기 위한 분류기를 만드는데 초점을 맞출 것입니다. \n",
    "\n",
    "\n",
    "## 설정\n",
    "\n",
    "다음 설정부터 시작합니다. \n",
    "\n",
    "- 실습을 위해 필요한 다양한 Python 라이브러리들을 import 합니다 \n",
    "- 노트북 내의 다양한 작업을 위해 SageMaker의 세션객체를 생성하고 AWS 리전 정보를 가져옵니다. \n",
    "- 학습과 모델 데이터 사용을 위한 S3 버킷과 Prefix를 설정합니다. \n",
    "- S3 데이터 접근을 위한 정의한 IAM role을 SageMaker 노트북 인스턴스에서 가져옵니다. \n"
   ]
  },
  {
   "cell_type": "code",
   "execution_count": 16,
   "metadata": {},
   "outputs": [],
   "source": [
    "import timeit\n",
    "start_time = timeit.default_timer()"
   ]
  },
  {
   "cell_type": "code",
   "execution_count": 17,
   "metadata": {
    "isConfigCell": true
   },
   "outputs": [
    {
     "name": "stdout",
     "output_type": "stream",
     "text": [
      "Bucket: sagemaker-ap-northeast-2-029498593638\n",
      "role: arn:aws:iam::029498593638:role/service-role/AmazonSageMaker-ExecutionRole-20190920T225690\n"
     ]
    }
   ],
   "source": [
    "import numpy as np                                \n",
    "import pandas as pd                               \n",
    "import matplotlib.pyplot as plt   \n",
    "from IPython.display import Image                 \n",
    "from IPython.display import display               \n",
    "from sklearn.datasets import dump_svmlight_file   \n",
    "from time import gmtime, strftime                 \n",
    "import sys                                        \n",
    "import math                                       \n",
    "import json\n",
    "import boto3\n",
    "import sagemaker\n",
    "\n",
    "session = sagemaker.Session()\n",
    "region = session.boto_region_name\n",
    "\n",
    "bucket = session.default_bucket()\n",
    "prefix = 'sagemaker/videogames-xgboost'\n",
    "role = sagemaker.get_execution_role()\n",
    "\n",
    "print('Bucket: {}'.format(bucket))\n",
    "print('role: {}'.format(role))"
   ]
  },
  {
   "cell_type": "markdown",
   "metadata": {},
   "source": [
    "---\n",
    "## 데이터\n",
    "\n",
    "먼저 public S3 버킷에서 이 노트북 인스턴스로 데이터셋을 다운로드합니다. 이 데이터는 이 노트북과 같은 디렉토리에 나타날 것입니다. \n",
    "우리는 그 데이터를 먼저 먼저 살펴보겠습니다. "
   ]
  },
  {
   "cell_type": "code",
   "execution_count": 18,
   "metadata": {},
   "outputs": [
    {
     "data": {
      "text/html": [
       "<div>\n",
       "<style scoped>\n",
       "    .dataframe tbody tr th:only-of-type {\n",
       "        vertical-align: middle;\n",
       "    }\n",
       "\n",
       "    .dataframe tbody tr th {\n",
       "        vertical-align: top;\n",
       "    }\n",
       "\n",
       "    .dataframe thead th {\n",
       "        text-align: right;\n",
       "    }\n",
       "</style>\n",
       "<table border=\"1\" class=\"dataframe\">\n",
       "  <thead>\n",
       "    <tr style=\"text-align: right;\">\n",
       "      <th></th>\n",
       "      <th>Name</th>\n",
       "      <th>Platform</th>\n",
       "      <th>Year_of_Release</th>\n",
       "      <th>Genre</th>\n",
       "      <th>Publisher</th>\n",
       "      <th>NA_Sales</th>\n",
       "      <th>EU_Sales</th>\n",
       "      <th>JP_Sales</th>\n",
       "      <th>Other_Sales</th>\n",
       "      <th>Global_Sales</th>\n",
       "      <th>Critic_Score</th>\n",
       "      <th>Critic_Count</th>\n",
       "      <th>User_Score</th>\n",
       "      <th>User_Count</th>\n",
       "      <th>Developer</th>\n",
       "      <th>Rating</th>\n",
       "    </tr>\n",
       "  </thead>\n",
       "  <tbody>\n",
       "    <tr>\n",
       "      <th>0</th>\n",
       "      <td>Wii Sports</td>\n",
       "      <td>Wii</td>\n",
       "      <td>2006.0</td>\n",
       "      <td>Sports</td>\n",
       "      <td>Nintendo</td>\n",
       "      <td>41.36</td>\n",
       "      <td>28.96</td>\n",
       "      <td>3.77</td>\n",
       "      <td>8.45</td>\n",
       "      <td>82.53</td>\n",
       "      <td>76.0</td>\n",
       "      <td>51.0</td>\n",
       "      <td>8</td>\n",
       "      <td>322.0</td>\n",
       "      <td>Nintendo</td>\n",
       "      <td>E</td>\n",
       "    </tr>\n",
       "    <tr>\n",
       "      <th>1</th>\n",
       "      <td>Super Mario Bros.</td>\n",
       "      <td>NES</td>\n",
       "      <td>1985.0</td>\n",
       "      <td>Platform</td>\n",
       "      <td>Nintendo</td>\n",
       "      <td>29.08</td>\n",
       "      <td>3.58</td>\n",
       "      <td>6.81</td>\n",
       "      <td>0.77</td>\n",
       "      <td>40.24</td>\n",
       "      <td>NaN</td>\n",
       "      <td>NaN</td>\n",
       "      <td>NaN</td>\n",
       "      <td>NaN</td>\n",
       "      <td>NaN</td>\n",
       "      <td>NaN</td>\n",
       "    </tr>\n",
       "    <tr>\n",
       "      <th>2</th>\n",
       "      <td>Mario Kart Wii</td>\n",
       "      <td>Wii</td>\n",
       "      <td>2008.0</td>\n",
       "      <td>Racing</td>\n",
       "      <td>Nintendo</td>\n",
       "      <td>15.68</td>\n",
       "      <td>12.76</td>\n",
       "      <td>3.79</td>\n",
       "      <td>3.29</td>\n",
       "      <td>35.52</td>\n",
       "      <td>82.0</td>\n",
       "      <td>73.0</td>\n",
       "      <td>8.3</td>\n",
       "      <td>709.0</td>\n",
       "      <td>Nintendo</td>\n",
       "      <td>E</td>\n",
       "    </tr>\n",
       "    <tr>\n",
       "      <th>3</th>\n",
       "      <td>Wii Sports Resort</td>\n",
       "      <td>Wii</td>\n",
       "      <td>2009.0</td>\n",
       "      <td>Sports</td>\n",
       "      <td>Nintendo</td>\n",
       "      <td>15.61</td>\n",
       "      <td>10.93</td>\n",
       "      <td>3.28</td>\n",
       "      <td>2.95</td>\n",
       "      <td>32.77</td>\n",
       "      <td>80.0</td>\n",
       "      <td>73.0</td>\n",
       "      <td>8</td>\n",
       "      <td>192.0</td>\n",
       "      <td>Nintendo</td>\n",
       "      <td>E</td>\n",
       "    </tr>\n",
       "    <tr>\n",
       "      <th>4</th>\n",
       "      <td>Pokemon Red/Pokemon Blue</td>\n",
       "      <td>GB</td>\n",
       "      <td>1996.0</td>\n",
       "      <td>Role-Playing</td>\n",
       "      <td>Nintendo</td>\n",
       "      <td>11.27</td>\n",
       "      <td>8.89</td>\n",
       "      <td>10.22</td>\n",
       "      <td>1.00</td>\n",
       "      <td>31.37</td>\n",
       "      <td>NaN</td>\n",
       "      <td>NaN</td>\n",
       "      <td>NaN</td>\n",
       "      <td>NaN</td>\n",
       "      <td>NaN</td>\n",
       "      <td>NaN</td>\n",
       "    </tr>\n",
       "    <tr>\n",
       "      <th>...</th>\n",
       "      <td>...</td>\n",
       "      <td>...</td>\n",
       "      <td>...</td>\n",
       "      <td>...</td>\n",
       "      <td>...</td>\n",
       "      <td>...</td>\n",
       "      <td>...</td>\n",
       "      <td>...</td>\n",
       "      <td>...</td>\n",
       "      <td>...</td>\n",
       "      <td>...</td>\n",
       "      <td>...</td>\n",
       "      <td>...</td>\n",
       "      <td>...</td>\n",
       "      <td>...</td>\n",
       "      <td>...</td>\n",
       "    </tr>\n",
       "    <tr>\n",
       "      <th>16714</th>\n",
       "      <td>Samurai Warriors: Sanada Maru</td>\n",
       "      <td>PS3</td>\n",
       "      <td>2016.0</td>\n",
       "      <td>Action</td>\n",
       "      <td>Tecmo Koei</td>\n",
       "      <td>0.00</td>\n",
       "      <td>0.00</td>\n",
       "      <td>0.01</td>\n",
       "      <td>0.00</td>\n",
       "      <td>0.01</td>\n",
       "      <td>NaN</td>\n",
       "      <td>NaN</td>\n",
       "      <td>NaN</td>\n",
       "      <td>NaN</td>\n",
       "      <td>NaN</td>\n",
       "      <td>NaN</td>\n",
       "    </tr>\n",
       "    <tr>\n",
       "      <th>16715</th>\n",
       "      <td>LMA Manager 2007</td>\n",
       "      <td>X360</td>\n",
       "      <td>2006.0</td>\n",
       "      <td>Sports</td>\n",
       "      <td>Codemasters</td>\n",
       "      <td>0.00</td>\n",
       "      <td>0.01</td>\n",
       "      <td>0.00</td>\n",
       "      <td>0.00</td>\n",
       "      <td>0.01</td>\n",
       "      <td>NaN</td>\n",
       "      <td>NaN</td>\n",
       "      <td>NaN</td>\n",
       "      <td>NaN</td>\n",
       "      <td>NaN</td>\n",
       "      <td>NaN</td>\n",
       "    </tr>\n",
       "    <tr>\n",
       "      <th>16716</th>\n",
       "      <td>Haitaka no Psychedelica</td>\n",
       "      <td>PSV</td>\n",
       "      <td>2016.0</td>\n",
       "      <td>Adventure</td>\n",
       "      <td>Idea Factory</td>\n",
       "      <td>0.00</td>\n",
       "      <td>0.00</td>\n",
       "      <td>0.01</td>\n",
       "      <td>0.00</td>\n",
       "      <td>0.01</td>\n",
       "      <td>NaN</td>\n",
       "      <td>NaN</td>\n",
       "      <td>NaN</td>\n",
       "      <td>NaN</td>\n",
       "      <td>NaN</td>\n",
       "      <td>NaN</td>\n",
       "    </tr>\n",
       "    <tr>\n",
       "      <th>16717</th>\n",
       "      <td>Spirits &amp; Spells</td>\n",
       "      <td>GBA</td>\n",
       "      <td>2003.0</td>\n",
       "      <td>Platform</td>\n",
       "      <td>Wanadoo</td>\n",
       "      <td>0.01</td>\n",
       "      <td>0.00</td>\n",
       "      <td>0.00</td>\n",
       "      <td>0.00</td>\n",
       "      <td>0.01</td>\n",
       "      <td>NaN</td>\n",
       "      <td>NaN</td>\n",
       "      <td>NaN</td>\n",
       "      <td>NaN</td>\n",
       "      <td>NaN</td>\n",
       "      <td>NaN</td>\n",
       "    </tr>\n",
       "    <tr>\n",
       "      <th>16718</th>\n",
       "      <td>Winning Post 8 2016</td>\n",
       "      <td>PSV</td>\n",
       "      <td>2016.0</td>\n",
       "      <td>Simulation</td>\n",
       "      <td>Tecmo Koei</td>\n",
       "      <td>0.00</td>\n",
       "      <td>0.00</td>\n",
       "      <td>0.01</td>\n",
       "      <td>0.00</td>\n",
       "      <td>0.01</td>\n",
       "      <td>NaN</td>\n",
       "      <td>NaN</td>\n",
       "      <td>NaN</td>\n",
       "      <td>NaN</td>\n",
       "      <td>NaN</td>\n",
       "      <td>NaN</td>\n",
       "    </tr>\n",
       "  </tbody>\n",
       "</table>\n",
       "<p>16719 rows × 16 columns</p>\n",
       "</div>"
      ],
      "text/plain": [
       "                                Name Platform  Year_of_Release         Genre  \\\n",
       "0                         Wii Sports      Wii           2006.0        Sports   \n",
       "1                  Super Mario Bros.      NES           1985.0      Platform   \n",
       "2                     Mario Kart Wii      Wii           2008.0        Racing   \n",
       "3                  Wii Sports Resort      Wii           2009.0        Sports   \n",
       "4           Pokemon Red/Pokemon Blue       GB           1996.0  Role-Playing   \n",
       "...                              ...      ...              ...           ...   \n",
       "16714  Samurai Warriors: Sanada Maru      PS3           2016.0        Action   \n",
       "16715               LMA Manager 2007     X360           2006.0        Sports   \n",
       "16716        Haitaka no Psychedelica      PSV           2016.0     Adventure   \n",
       "16717               Spirits & Spells      GBA           2003.0      Platform   \n",
       "16718            Winning Post 8 2016      PSV           2016.0    Simulation   \n",
       "\n",
       "          Publisher  NA_Sales  EU_Sales  JP_Sales  Other_Sales  Global_Sales  \\\n",
       "0          Nintendo     41.36     28.96      3.77         8.45         82.53   \n",
       "1          Nintendo     29.08      3.58      6.81         0.77         40.24   \n",
       "2          Nintendo     15.68     12.76      3.79         3.29         35.52   \n",
       "3          Nintendo     15.61     10.93      3.28         2.95         32.77   \n",
       "4          Nintendo     11.27      8.89     10.22         1.00         31.37   \n",
       "...             ...       ...       ...       ...          ...           ...   \n",
       "16714    Tecmo Koei      0.00      0.00      0.01         0.00          0.01   \n",
       "16715   Codemasters      0.00      0.01      0.00         0.00          0.01   \n",
       "16716  Idea Factory      0.00      0.00      0.01         0.00          0.01   \n",
       "16717       Wanadoo      0.01      0.00      0.00         0.00          0.01   \n",
       "16718    Tecmo Koei      0.00      0.00      0.01         0.00          0.01   \n",
       "\n",
       "       Critic_Score  Critic_Count User_Score  User_Count Developer Rating  \n",
       "0              76.0          51.0          8       322.0  Nintendo      E  \n",
       "1               NaN           NaN        NaN         NaN       NaN    NaN  \n",
       "2              82.0          73.0        8.3       709.0  Nintendo      E  \n",
       "3              80.0          73.0          8       192.0  Nintendo      E  \n",
       "4               NaN           NaN        NaN         NaN       NaN    NaN  \n",
       "...             ...           ...        ...         ...       ...    ...  \n",
       "16714           NaN           NaN        NaN         NaN       NaN    NaN  \n",
       "16715           NaN           NaN        NaN         NaN       NaN    NaN  \n",
       "16716           NaN           NaN        NaN         NaN       NaN    NaN  \n",
       "16717           NaN           NaN        NaN         NaN       NaN    NaN  \n",
       "16718           NaN           NaN        NaN         NaN       NaN    NaN  \n",
       "\n",
       "[16719 rows x 16 columns]"
      ]
     },
     "execution_count": 18,
     "metadata": {},
     "output_type": "execute_result"
    }
   ],
   "source": [
    "# raw_data_filename = 'Video_Games_Sales_as_at_22_Dec_2016.csv'\n",
    "# data_bucket = 'sagemaker-workshop-pdx'\n",
    "\n",
    "s3 = boto3.resource('s3')\n",
    "# s3.Bucket(data_bucket).download_file(raw_data_filename, 'raw_data.csv')\n",
    "\n",
    "data = pd.read_csv('./raw_data.csv')\n",
    "pd.set_option('display.max_rows', 20) \n",
    "data"
   ]
  },
  {
   "cell_type": "markdown",
   "metadata": {},
   "source": [
    "계속 진행하기 전에, 예측할 타켓을 지정해야 합니다. 비디오게임개발 에산은 수천만달러에 이르기 때문에, 비용을 회수하고 수익을 얻기위해  게임 퍼블리셔가 \"hit\"게임을 퍼블리싱하는 것은 매우 중요합니다. \"hit\"게임은 글로벌 매출이 100만 이상인 것을 타켓으로 지정할 것입니다. "
   ]
  },
  {
   "cell_type": "code",
   "execution_count": 20,
   "metadata": {},
   "outputs": [],
   "source": [
    "data['y'] = (data['Global_Sales'] > 1)"
   ]
  },
  {
   "cell_type": "markdown",
   "metadata": {},
   "source": [
    "이제 목표가 정의되었으므로  \"hit\"와 \"not a hit\" 클래스의 불균형을 살펴보도록 하겠습니다.: "
   ]
  },
  {
   "cell_type": "code",
   "execution_count": 21,
   "metadata": {},
   "outputs": [
    {
     "data": {
      "image/png": "[encoded data removed]",
      "text/plain": [
       "<Figure size 432x288 with 1 Axes>"
      ]
     },
     "metadata": {
      "needs_background": "light"
     },
     "output_type": "display_data"
    }
   ],
   "source": [
    "plt.bar(['not a hit', 'hit'], data['y'].value_counts())\n",
    "plt.show()"
   ]
  },
  {
   "cell_type": "markdown",
   "metadata": {},
   "source": [
    "놀라울 것도 없이, 단지 일부의 게임만이 \"hits\"로 간주되어집니다. 다음으로 타켓에 예측력이 높은 피처를 선택할 것입니다. 리뷰 스코어들과 글로벌 매출을 플로팅을 시작하여 이러한 스코어들이 매출에 영향을 미치는지 확인합니다. 명확성을 위해 로그스케일을 사용합니다. "
   ]
  },
  {
   "cell_type": "code",
   "execution_count": 22,
   "metadata": {},
   "outputs": [
    {
     "data": {
      "image/png": "[encoded data removed]",
      "text/plain": [
       "<Figure size 432x288 with 1 Axes>"
      ]
     },
     "metadata": {
      "needs_background": "light"
     },
     "output_type": "display_data"
    }
   ],
   "source": [
    "viz = data.filter(['User_Score','Critic_Score', 'Global_Sales'], axis=1)\n",
    "viz['User_Score'] = pd.Series(viz['User_Score'].apply(pd.to_numeric, errors='coerce'))\n",
    "#viz['User_Score'] = viz['User_Score'].mask(np.isnan(viz[\"User_Score\"]), viz['Critic_Score'] / 10.0)\n",
    "viz.plot(kind='scatter', logx=True, logy=True, x='Critic_Score', y='Global_Sales')\n",
    "#viz.plot(kind='scatter', logx=True, logy=True, x='User_Score', y='Global_Sales')\n",
    "plt.show()"
   ]
  },
  {
   "cell_type": "markdown",
   "metadata": {},
   "source": [
    "리뷰 스코어들과 매출 사이의 관계에 대한 우리의 직관이 타당해보입니다. 우리는 또한 데이터셋으로부터 다른 관련 피처들을 추출할 수 있습니다. 예를 들면, ESRB raing은 'E'가 있는 게임이 일반적으로 성인 등급에 대한 연령 제한이 있는 \"M\"게임보다 더 넓은 사용자에 도달하기 때문에 영향이 더 미치지만, 다른 피처들, 장르 (shooter혹은 action)에 따라 M-rating 게임들 또한 큰 히트를 칠 수 있습니다. 모델은 이러한 관계들과 다른 것들을 배우게 될 것입니다.  \n",
    "\n",
    "다음으로, 데이터셋의 피처들을 살펴보면 제외해야 할 몇개의 컬럼을 식별할 수 있습니다. 예를 들면 매출 숫자를 지정하는 5개의 컬럼이 있습니다: 이 숫자는 우리가 예측할 타켓과 직접적으로 연관이 있기 때문에 삭제해야 합니다. 게임 이름과 같은 다른 피처들도 관련이 없을 수 있습니다. "
   ]
  },
  {
   "cell_type": "code",
   "execution_count": 23,
   "metadata": {},
   "outputs": [],
   "source": [
    "data = data.drop(['Name', 'Year_of_Release', 'NA_Sales', 'EU_Sales', 'JP_Sales', 'Other_Sales', 'Global_Sales', 'Critic_Count', 'User_Count', 'Developer'], axis=1)"
   ]
  },
  {
   "cell_type": "markdown",
   "metadata": {},
   "source": [
    "컬럼 숫자를 줄였으니 이제 얼마나 많은 컬럼에 데이터가 누락되었는지 체크해 보겠습니다:"
   ]
  },
  {
   "cell_type": "code",
   "execution_count": 24,
   "metadata": {},
   "outputs": [
    {
     "data": {
      "text/plain": [
       "Platform           0\n",
       "Genre              2\n",
       "Publisher         54\n",
       "Critic_Score    8582\n",
       "User_Score      6704\n",
       "Rating          6769\n",
       "y                  0\n",
       "dtype: int64"
      ]
     },
     "execution_count": 24,
     "metadata": {},
     "output_type": "execute_result"
    }
   ],
   "source": [
    "data.isnull().sum()"
   ]
  },
  {
   "cell_type": "markdown",
   "metadata": {},
   "source": [
    "이 데이터셋의 Kaggle의 개요에서 언급한 것과 같이, 많은 리뷰 rating이 누락되어 있습니다. 불행하게도 그것들은 우리가 예측의 위해 의존하는 중요한 피처들이고 그들을 대체하기 위한 방법이 없기 때문에 해당 피처가 누락된 행은 삭제할 필요가 있습니다. "
   ]
  },
  {
   "cell_type": "code",
   "execution_count": 25,
   "metadata": {},
   "outputs": [],
   "source": [
    "data = data.dropna()"
   ]
  },
  {
   "cell_type": "markdown",
   "metadata": {},
   "source": [
    "이제 User_Score 컬럼에 있는 문제를 해결할 것입니다: 그것은 'tbd'라는 문자열을 포함하고 있기 때문에 명백히 숫자라고 할 수 없습니다. User_Score는 범주형 피처보다는 숫자타입이 더 적합하기 때문에  문자열 타입을 숫자형으로 변환할 필요가 있고 일시적으로 tbd값들을 NaN으로 채울 것입니다. 그 다음으로  새로운 NaN 값들을 어떻게 해야할지 결정해야만 합니다. 우리는 이미 많은 행들을 버렸기 때문에 이 행들을 복구해야 합니다. 첫번째 근사치로서 Critic_Score 컬럼을 이용할 것이며, User Score는 Critic Score를 따라가는 경향이 있기 때문에  Critic Score를 10으로 나눈 값을 사용할 것입니다. \n"
   ]
  },
  {
   "cell_type": "code",
   "execution_count": 26,
   "metadata": {},
   "outputs": [],
   "source": [
    "data['User_Score'] = data['User_Score'].apply(pd.to_numeric, errors='coerce')\n",
    "data['User_Score'] = data['User_Score'].mask(np.isnan(data[\"User_Score\"]), data['Critic_Score'] / 10.0)"
   ]
  },
  {
   "cell_type": "markdown",
   "metadata": {},
   "source": [
    "최종 데이터 전처리로서 범주형 피처들을 one-hot encdoing 메서드를 사용하여 숫자로 변환하는 것을 포함합니다."
   ]
  },
  {
   "cell_type": "code",
   "execution_count": 27,
   "metadata": {},
   "outputs": [
    {
     "data": {
      "text/html": [
       "<div>\n",
       "<style scoped>\n",
       "    .dataframe tbody tr th:only-of-type {\n",
       "        vertical-align: middle;\n",
       "    }\n",
       "\n",
       "    .dataframe tbody tr th {\n",
       "        vertical-align: top;\n",
       "    }\n",
       "\n",
       "    .dataframe thead th {\n",
       "        text-align: right;\n",
       "    }\n",
       "</style>\n",
       "<table border=\"1\" class=\"dataframe\">\n",
       "  <thead>\n",
       "    <tr style=\"text-align: right;\">\n",
       "      <th></th>\n",
       "      <th>Critic_Score</th>\n",
       "      <th>User_Score</th>\n",
       "      <th>Platform_3DS</th>\n",
       "      <th>Platform_DC</th>\n",
       "      <th>Platform_DS</th>\n",
       "      <th>Platform_GBA</th>\n",
       "      <th>Platform_GC</th>\n",
       "      <th>Platform_PC</th>\n",
       "      <th>Platform_PS</th>\n",
       "      <th>Platform_PS2</th>\n",
       "      <th>...</th>\n",
       "      <th>Publisher_inXile Entertainment</th>\n",
       "      <th>Rating_AO</th>\n",
       "      <th>Rating_E</th>\n",
       "      <th>Rating_E10+</th>\n",
       "      <th>Rating_K-A</th>\n",
       "      <th>Rating_M</th>\n",
       "      <th>Rating_RP</th>\n",
       "      <th>Rating_T</th>\n",
       "      <th>y_no</th>\n",
       "      <th>y_yes</th>\n",
       "    </tr>\n",
       "  </thead>\n",
       "  <tbody>\n",
       "    <tr>\n",
       "      <th>0</th>\n",
       "      <td>76.0</td>\n",
       "      <td>8.0</td>\n",
       "      <td>0</td>\n",
       "      <td>0</td>\n",
       "      <td>0</td>\n",
       "      <td>0</td>\n",
       "      <td>0</td>\n",
       "      <td>0</td>\n",
       "      <td>0</td>\n",
       "      <td>0</td>\n",
       "      <td>...</td>\n",
       "      <td>0</td>\n",
       "      <td>0</td>\n",
       "      <td>1</td>\n",
       "      <td>0</td>\n",
       "      <td>0</td>\n",
       "      <td>0</td>\n",
       "      <td>0</td>\n",
       "      <td>0</td>\n",
       "      <td>0</td>\n",
       "      <td>1</td>\n",
       "    </tr>\n",
       "    <tr>\n",
       "      <th>2</th>\n",
       "      <td>82.0</td>\n",
       "      <td>8.3</td>\n",
       "      <td>0</td>\n",
       "      <td>0</td>\n",
       "      <td>0</td>\n",
       "      <td>0</td>\n",
       "      <td>0</td>\n",
       "      <td>0</td>\n",
       "      <td>0</td>\n",
       "      <td>0</td>\n",
       "      <td>...</td>\n",
       "      <td>0</td>\n",
       "      <td>0</td>\n",
       "      <td>1</td>\n",
       "      <td>0</td>\n",
       "      <td>0</td>\n",
       "      <td>0</td>\n",
       "      <td>0</td>\n",
       "      <td>0</td>\n",
       "      <td>0</td>\n",
       "      <td>1</td>\n",
       "    </tr>\n",
       "    <tr>\n",
       "      <th>3</th>\n",
       "      <td>80.0</td>\n",
       "      <td>8.0</td>\n",
       "      <td>0</td>\n",
       "      <td>0</td>\n",
       "      <td>0</td>\n",
       "      <td>0</td>\n",
       "      <td>0</td>\n",
       "      <td>0</td>\n",
       "      <td>0</td>\n",
       "      <td>0</td>\n",
       "      <td>...</td>\n",
       "      <td>0</td>\n",
       "      <td>0</td>\n",
       "      <td>1</td>\n",
       "      <td>0</td>\n",
       "      <td>0</td>\n",
       "      <td>0</td>\n",
       "      <td>0</td>\n",
       "      <td>0</td>\n",
       "      <td>0</td>\n",
       "      <td>1</td>\n",
       "    </tr>\n",
       "    <tr>\n",
       "      <th>6</th>\n",
       "      <td>89.0</td>\n",
       "      <td>8.5</td>\n",
       "      <td>0</td>\n",
       "      <td>0</td>\n",
       "      <td>1</td>\n",
       "      <td>0</td>\n",
       "      <td>0</td>\n",
       "      <td>0</td>\n",
       "      <td>0</td>\n",
       "      <td>0</td>\n",
       "      <td>...</td>\n",
       "      <td>0</td>\n",
       "      <td>0</td>\n",
       "      <td>1</td>\n",
       "      <td>0</td>\n",
       "      <td>0</td>\n",
       "      <td>0</td>\n",
       "      <td>0</td>\n",
       "      <td>0</td>\n",
       "      <td>0</td>\n",
       "      <td>1</td>\n",
       "    </tr>\n",
       "    <tr>\n",
       "      <th>7</th>\n",
       "      <td>58.0</td>\n",
       "      <td>6.6</td>\n",
       "      <td>0</td>\n",
       "      <td>0</td>\n",
       "      <td>0</td>\n",
       "      <td>0</td>\n",
       "      <td>0</td>\n",
       "      <td>0</td>\n",
       "      <td>0</td>\n",
       "      <td>0</td>\n",
       "      <td>...</td>\n",
       "      <td>0</td>\n",
       "      <td>0</td>\n",
       "      <td>1</td>\n",
       "      <td>0</td>\n",
       "      <td>0</td>\n",
       "      <td>0</td>\n",
       "      <td>0</td>\n",
       "      <td>0</td>\n",
       "      <td>0</td>\n",
       "      <td>1</td>\n",
       "    </tr>\n",
       "  </tbody>\n",
       "</table>\n",
       "<p>5 rows × 333 columns</p>\n",
       "</div>"
      ],
      "text/plain": [
       "   Critic_Score  User_Score  Platform_3DS  Platform_DC  Platform_DS  \\\n",
       "0          76.0         8.0             0            0            0   \n",
       "2          82.0         8.3             0            0            0   \n",
       "3          80.0         8.0             0            0            0   \n",
       "6          89.0         8.5             0            0            1   \n",
       "7          58.0         6.6             0            0            0   \n",
       "\n",
       "   Platform_GBA  Platform_GC  Platform_PC  Platform_PS  Platform_PS2  ...  \\\n",
       "0             0            0            0            0             0  ...   \n",
       "2             0            0            0            0             0  ...   \n",
       "3             0            0            0            0             0  ...   \n",
       "6             0            0            0            0             0  ...   \n",
       "7             0            0            0            0             0  ...   \n",
       "\n",
       "   Publisher_inXile Entertainment  Rating_AO  Rating_E  Rating_E10+  \\\n",
       "0                               0          0         1            0   \n",
       "2                               0          0         1            0   \n",
       "3                               0          0         1            0   \n",
       "6                               0          0         1            0   \n",
       "7                               0          0         1            0   \n",
       "\n",
       "   Rating_K-A  Rating_M  Rating_RP  Rating_T  y_no  y_yes  \n",
       "0           0         0          0         0     0      1  \n",
       "2           0         0          0         0     0      1  \n",
       "3           0         0          0         0     0      1  \n",
       "6           0         0          0         0     0      1  \n",
       "7           0         0          0         0     0      1  \n",
       "\n",
       "[5 rows x 333 columns]"
      ]
     },
     "execution_count": 27,
     "metadata": {},
     "output_type": "execute_result"
    }
   ],
   "source": [
    "if data['y'].dtype == bool:\n",
    "    data['y'] = data['y'].apply(lambda y: 'yes' if y == True else 'no')\n",
    "model_data = pd.get_dummies(data)\n",
    "\n",
    "model_data.head()"
   ]
  },
  {
   "cell_type": "markdown",
   "metadata": {},
   "source": [
    "모델의 오퍼피팅을 막기 위해 데이터를 3개의 그룹으로 랜덤하게 나눌 것입니다. 구체적으로 이 모델은 데이터의 70%에 대해 학습할 것입니다. 그 다음 데이터의 20%에 대해 평가하여 새로운 데이터의 정확도를 추정합니다. 최종 테스트 데이터셋으로서 나머지 10%를 남겨둘 것입니다. "
   ]
  },
  {
   "cell_type": "code",
   "execution_count": 12,
   "metadata": {},
   "outputs": [],
   "source": [
    "train_data, validation_data, test_data = np.split(model_data.sample(frac=1, random_state=1729), [int(0.7 * len(model_data)), int(0.9 * len(model_data))])   "
   ]
  },
  {
   "cell_type": "markdown",
   "metadata": {},
   "source": [
    "Amazon SageMaker의 XGBoost는 CSV와 libSVM의 입력 데이터를 지원합니다. 우리는 여기서 피쳐와 타켓 변수를 별도의 파라미터로 제공하는 libSVM을 사용할 것입니다. 무작위 순서변경으로 인한 오정렬 문제를 피하기 위해서 위의 셀에서 분리가 완료 후 수행합니다. 학습 전에 마지막 단계로, Amazon SageMaker에서의 학습을 위한 입력으로서, 결과 파일들을 S3에 복사할 것입니다. "
   ]
  },
  {
   "cell_type": "raw",
   "metadata": {},
   "source": [
    "train_data.to_csv('train.csv', index=False)\n",
    "validation_data.to_csv('validation.csv', index=False)"
   ]
  },
  {
   "cell_type": "raw",
   "metadata": {},
   "source": [
    "boto3.Session().resource('s3').Bucket(bucket).Object(os.path.join(prefix, 'train/train.csv')).upload_file('train.csv')\n",
    "boto3.Session().resource('s3').Bucket(bucket).Object(os.path.join(prefix, 'validation/validation.csv')).upload_file('validation.csv')"
   ]
  },
  {
   "cell_type": "raw",
   "metadata": {},
   "source": [
    "s3_input_train = sagemaker.trina_input(s3_data='s3://{}/{}/train'.format(bucket, prefix), content_type='csv')\n",
    "s3_input_validation = sagemaker.TrainingInput(s3_data='s3://{}/{}/validation/'.format(bucket, prefix), content_type='csv')"
   ]
  },
  {
   "cell_type": "code",
   "execution_count": 13,
   "metadata": {},
   "outputs": [],
   "source": [
    "dump_svmlight_file(X=train_data.drop(['y_no', 'y_yes'], axis=1), y=train_data['y_yes'], f='train.libsvm')\n",
    "dump_svmlight_file(X=validation_data.drop(['y_no', 'y_yes'], axis=1), y=validation_data['y_yes'], f='validation.libsvm')\n",
    "dump_svmlight_file(X=test_data.drop(['y_no', 'y_yes'], axis=1), y=test_data['y_yes'], f='test.libsvm')\n",
    "\n",
    "s3.Bucket(bucket).Object(prefix + '/train/train.libsvm').upload_file('train.libsvm')\n",
    "s3.Bucket(bucket).Object(prefix + '/validation/validation.libsvm').upload_file('validation.libsvm')\n",
    "\n",
    "s3_input_train = sagemaker.TrainingInput(s3_data='s3://{}/{}/train'.format(bucket, prefix), content_type='libsvm')\n",
    "s3_input_validation = sagemaker.TrainingInput(s3_data='s3://{}/{}/validation/'.format(bucket, prefix), content_type='libsvm')\n"
   ]
  },
  {
   "cell_type": "markdown",
   "metadata": {},
   "source": [
    "---\n",
    "## 훈련\n",
    "\n",
    "우리의 데이터는 XGBoost 모델을 학습하기 위한 준비가 되었습니다. XGBoost 알고리즘은 많은 튜닝 가능한 하이퍼파라미터를 가지고 있습니다. 이러한 하이퍼파라미터의 일부는 다음과 같습니다. 처음에는 몇 가지만 사용하도록 할 것입니다. \n",
    "\n",
    "- `max_depth`: 트리의 최대 깊이. 주의사항으로, 이 값이 너무 작으면 데이터가 언더피트의 가능성이 있고, 반면 증가하면 모델이 더욱 복잡해지고 오버피트의 가능성이 있습니다.(즉, 고전적인 Bias-Variance의 트레이드오프)\n",
    "- `eta`: 오버피트 방지를 위한 업데이트에서 사용되는 단계 크기 축소  \n",
    "- `eval_metric`: 검증 데이터에 대한 평가 메트릭. 불균형이 있는 이와 같은 데이터는 데이터의 경우는 AUC 매트릭을 사용합니다. \n",
    "- `scale_pos_weight`: 양과 음의 가중치의 균형을 제어하여 불균형한 클래스를 갖는 데이터셋에 유용합니다.\n",
    "\n",
    "먼저 우리는 Amazon SageMaker Estimator 객체를 위한 파라미터를 와 알고리즘 자체의 하이퍼파라미터를 설정할 것입니다. Amazon SageMaker Python SDK의 Estimator 객체는 최소한의 코드로 Training job을 설정할 수 있는 편리한 방법입니다. "
   ]
  },
  {
   "cell_type": "code",
   "execution_count": 14,
   "metadata": {},
   "outputs": [
    {
     "name": "stdout",
     "output_type": "stream",
     "text": [
      "Training job videogames-xgboost-2021-03-02-06-07-42\n"
     ]
    }
   ],
   "source": [
    "job_name = 'videogames-xgboost-' + strftime(\"%Y-%m-%d-%H-%M-%S\", gmtime())\n",
    "print(\"Training job\", job_name)\n",
    "\n",
    "from sagemaker.amazon.amazon_estimator import image_uris\n",
    "\n",
    "container = image_uris.retrieve(region=boto3.Session().region_name, framework='xgboost', version='1.0-1')\n",
    "\n",
    "xgb = sagemaker.estimator.Estimator(container,\n",
    "                                    role, \n",
    "                                    base_job_name=job_name,\n",
    "                                    instance_count=1, \n",
    "                                    instance_type='ml.c5.xlarge',\n",
    "                                    output_path='s3://{}/{}/output'.format(bucket, prefix),\n",
    "                                    sagemaker_session=session)\n",
    "\n",
    "xgb.set_hyperparameters(max_depth=3,\n",
    "                        eta=0.1,\n",
    "                        subsample=0.5,\n",
    "                        eval_metric='auc',\n",
    "                        objective='binary:logistic',\n",
    "                        scale_pos_weight=2.0,\n",
    "                        num_round=100)\n"
   ]
  },
  {
   "cell_type": "markdown",
   "metadata": {},
   "source": [
    "다음으로, 우리는 Trainig job을 실행할 것입니다. Training job을 위한 하드웨어는 노트북 인스턴스와 별개이며 Amazon SageMaker에서 관리합니다. Amazon SageMaker는 훈련 Cluster를 설정 및 작업 완료 시에 해제하는 것과 같은 무거운 작업을 수행합니다. 다음 한줄의 코드로 Training job이 시작됩니다. "
   ]
  },
  {
   "cell_type": "code",
   "execution_count": 15,
   "metadata": {},
   "outputs": [
    {
     "name": "stdout",
     "output_type": "stream",
     "text": [
      "2021-03-02 06:07:45 Starting - Starting the training job...\n",
      "2021-03-02 06:07:49 Starting - Launching requested ML instancesProfilerReport-1614665265: InProgress\n",
      "......\n",
      "2021-03-02 06:09:02 Starting - Preparing the instances for training......\n",
      "2021-03-02 06:10:06 Downloading - Downloading input data...\n",
      "2021-03-02 06:10:43 Training - Training image download completed. Training in progress.\n",
      "2021-03-02 06:10:43 Uploading - Uploading generated training model\u001b[34mINFO:sagemaker-containers:Imported framework sagemaker_xgboost_container.training\u001b[0m\n",
      "\u001b[34mINFO:sagemaker-containers:Failed to parse hyperparameter eval_metric value auc to Json.\u001b[0m\n",
      "\u001b[34mReturning the value itself\u001b[0m\n",
      "\u001b[34mINFO:sagemaker-containers:Failed to parse hyperparameter objective value binary:logistic to Json.\u001b[0m\n",
      "\u001b[34mReturning the value itself\u001b[0m\n",
      "\u001b[34mINFO:sagemaker-containers:No GPUs detected (normal if no gpus installed)\u001b[0m\n",
      "\u001b[34mINFO:sagemaker_xgboost_container.training:Running XGBoost Sagemaker in algorithm mode\u001b[0m\n",
      "\u001b[34m[06:10:35] 5614x331 matrix with 33684 entries loaded from /opt/ml/input/data/train\u001b[0m\n",
      "\u001b[34m[06:10:35] 1604x331 matrix with 9624 entries loaded from /opt/ml/input/data/validation\u001b[0m\n",
      "\u001b[34mINFO:root:Single node training.\u001b[0m\n",
      "\u001b[34mINFO:root:Train matrix has 5614 rows\u001b[0m\n",
      "\u001b[34mINFO:root:Validation matrix has 1604 rows\u001b[0m\n",
      "\u001b[34m[0]#011train-auc:0.77880#011validation-auc:0.76548\u001b[0m\n",
      "\u001b[34m[1]#011train-auc:0.79049#011validation-auc:0.77644\u001b[0m\n",
      "\u001b[34m[2]#011train-auc:0.79447#011validation-auc:0.77948\u001b[0m\n",
      "\u001b[34m[3]#011train-auc:0.80048#011validation-auc:0.78807\u001b[0m\n",
      "\u001b[34m[4]#011train-auc:0.80771#011validation-auc:0.79238\u001b[0m\n",
      "\u001b[34m[5]#011train-auc:0.80972#011validation-auc:0.79396\u001b[0m\n",
      "\u001b[34m[6]#011train-auc:0.81080#011validation-auc:0.79247\u001b[0m\n",
      "\u001b[34m[7]#011train-auc:0.81212#011validation-auc:0.79413\u001b[0m\n",
      "\u001b[34m[8]#011train-auc:0.81401#011validation-auc:0.79506\u001b[0m\n",
      "\u001b[34m[9]#011train-auc:0.81483#011validation-auc:0.79520\u001b[0m\n",
      "\u001b[34m[10]#011train-auc:0.81763#011validation-auc:0.79919\u001b[0m\n",
      "\u001b[34m[11]#011train-auc:0.81947#011validation-auc:0.80040\u001b[0m\n",
      "\u001b[34m[12]#011train-auc:0.82101#011validation-auc:0.80230\u001b[0m\n",
      "\u001b[34m[13]#011train-auc:0.82369#011validation-auc:0.80253\u001b[0m\n",
      "\u001b[34m[14]#011train-auc:0.82414#011validation-auc:0.80356\u001b[0m\n",
      "\u001b[34m[15]#011train-auc:0.82662#011validation-auc:0.80604\u001b[0m\n",
      "\u001b[34m[16]#011train-auc:0.82807#011validation-auc:0.80886\u001b[0m\n",
      "\u001b[34m[17]#011train-auc:0.83115#011validation-auc:0.80937\u001b[0m\n",
      "\u001b[34m[18]#011train-auc:0.83259#011validation-auc:0.80805\u001b[0m\n",
      "\u001b[34m[19]#011train-auc:0.83325#011validation-auc:0.80876\u001b[0m\n",
      "\u001b[34m[20]#011train-auc:0.83419#011validation-auc:0.80815\u001b[0m\n",
      "\u001b[34m[21]#011train-auc:0.83624#011validation-auc:0.81082\u001b[0m\n",
      "\u001b[34m[22]#011train-auc:0.83778#011validation-auc:0.81371\u001b[0m\n",
      "\u001b[34m[23]#011train-auc:0.83876#011validation-auc:0.81446\u001b[0m\n",
      "\u001b[34m[24]#011train-auc:0.83951#011validation-auc:0.81375\u001b[0m\n",
      "\u001b[34m[25]#011train-auc:0.84020#011validation-auc:0.81468\u001b[0m\n",
      "\u001b[34m[26]#011train-auc:0.84216#011validation-auc:0.81653\u001b[0m\n",
      "\u001b[34m[27]#011train-auc:0.84391#011validation-auc:0.81694\u001b[0m\n",
      "\u001b[34m[28]#011train-auc:0.84562#011validation-auc:0.81737\u001b[0m\n",
      "\u001b[34m[29]#011train-auc:0.84649#011validation-auc:0.81834\u001b[0m\n",
      "\u001b[34m[30]#011train-auc:0.84862#011validation-auc:0.82016\u001b[0m\n",
      "\u001b[34m[31]#011train-auc:0.84920#011validation-auc:0.82063\u001b[0m\n",
      "\u001b[34m[32]#011train-auc:0.85106#011validation-auc:0.82178\u001b[0m\n",
      "\u001b[34m[33]#011train-auc:0.85190#011validation-auc:0.82209\u001b[0m\n",
      "\u001b[34m[34]#011train-auc:0.85324#011validation-auc:0.82279\u001b[0m\n",
      "\u001b[34m[35]#011train-auc:0.85416#011validation-auc:0.82235\u001b[0m\n",
      "\u001b[34m[36]#011train-auc:0.85510#011validation-auc:0.82299\u001b[0m\n",
      "\u001b[34m[37]#011train-auc:0.85619#011validation-auc:0.82483\u001b[0m\n",
      "\u001b[34m[38]#011train-auc:0.85697#011validation-auc:0.82524\u001b[0m\n",
      "\u001b[34m[39]#011train-auc:0.85732#011validation-auc:0.82668\u001b[0m\n",
      "\u001b[34m[40]#011train-auc:0.85779#011validation-auc:0.82715\u001b[0m\n",
      "\u001b[34m[41]#011train-auc:0.85975#011validation-auc:0.82886\u001b[0m\n",
      "\u001b[34m[42]#011train-auc:0.86120#011validation-auc:0.82867\u001b[0m\n",
      "\u001b[34m[43]#011train-auc:0.86174#011validation-auc:0.82910\u001b[0m\n",
      "\u001b[34m[44]#011train-auc:0.86281#011validation-auc:0.82910\u001b[0m\n",
      "\u001b[34m[45]#011train-auc:0.86300#011validation-auc:0.82915\u001b[0m\n",
      "\u001b[34m[46]#011train-auc:0.86423#011validation-auc:0.82993\u001b[0m\n",
      "\u001b[34m[47]#011train-auc:0.86539#011validation-auc:0.83090\u001b[0m\n",
      "\u001b[34m[48]#011train-auc:0.86607#011validation-auc:0.83073\u001b[0m\n",
      "\u001b[34m[49]#011train-auc:0.86669#011validation-auc:0.83173\u001b[0m\n",
      "\u001b[34m[50]#011train-auc:0.86711#011validation-auc:0.83210\u001b[0m\n",
      "\u001b[34m[51]#011train-auc:0.86785#011validation-auc:0.83275\u001b[0m\n",
      "\u001b[34m[52]#011train-auc:0.86807#011validation-auc:0.83254\u001b[0m\n",
      "\u001b[34m[53]#011train-auc:0.86917#011validation-auc:0.83358\u001b[0m\n",
      "\u001b[34m[54]#011train-auc:0.87034#011validation-auc:0.83462\u001b[0m\n",
      "\u001b[34m[55]#011train-auc:0.87096#011validation-auc:0.83533\u001b[0m\n",
      "\u001b[34m[56]#011train-auc:0.87198#011validation-auc:0.83643\u001b[0m\n",
      "\u001b[34m[57]#011train-auc:0.87284#011validation-auc:0.83723\u001b[0m\n",
      "\u001b[34m[58]#011train-auc:0.87299#011validation-auc:0.83751\u001b[0m\n",
      "\u001b[34m[59]#011train-auc:0.87345#011validation-auc:0.83756\u001b[0m\n",
      "\u001b[34m[60]#011train-auc:0.87387#011validation-auc:0.83654\u001b[0m\n",
      "\u001b[34m[61]#011train-auc:0.87409#011validation-auc:0.83657\u001b[0m\n",
      "\u001b[34m[62]#011train-auc:0.87450#011validation-auc:0.83686\u001b[0m\n",
      "\u001b[34m[63]#011train-auc:0.87491#011validation-auc:0.83715\u001b[0m\n",
      "\u001b[34m[64]#011train-auc:0.87570#011validation-auc:0.83781\u001b[0m\n",
      "\u001b[34m[65]#011train-auc:0.87622#011validation-auc:0.83835\u001b[0m\n",
      "\u001b[34m[66]#011train-auc:0.87680#011validation-auc:0.83852\u001b[0m\n",
      "\u001b[34m[67]#011train-auc:0.87719#011validation-auc:0.83875\u001b[0m\n",
      "\u001b[34m[68]#011train-auc:0.87734#011validation-auc:0.83859\u001b[0m\n",
      "\u001b[34m[69]#011train-auc:0.87783#011validation-auc:0.83917\u001b[0m\n",
      "\u001b[34m[70]#011train-auc:0.87833#011validation-auc:0.83983\u001b[0m\n",
      "\u001b[34m[71]#011train-auc:0.87862#011validation-auc:0.83976\u001b[0m\n",
      "\u001b[34m[72]#011train-auc:0.87894#011validation-auc:0.83991\u001b[0m\n",
      "\u001b[34m[73]#011train-auc:0.87970#011validation-auc:0.84154\u001b[0m\n",
      "\u001b[34m[74]#011train-auc:0.87994#011validation-auc:0.84185\u001b[0m\n",
      "\u001b[34m[75]#011train-auc:0.88031#011validation-auc:0.84161\u001b[0m\n",
      "\u001b[34m[76]#011train-auc:0.88084#011validation-auc:0.84205\u001b[0m\n",
      "\u001b[34m[77]#011train-auc:0.88127#011validation-auc:0.84235\u001b[0m\n",
      "\u001b[34m[78]#011train-auc:0.88211#011validation-auc:0.84246\u001b[0m\n",
      "\u001b[34m[79]#011train-auc:0.88250#011validation-auc:0.84319\u001b[0m\n",
      "\u001b[34m[80]#011train-auc:0.88293#011validation-auc:0.84329\u001b[0m\n",
      "\u001b[34m[81]#011train-auc:0.88347#011validation-auc:0.84352\u001b[0m\n",
      "\u001b[34m[82]#011train-auc:0.88369#011validation-auc:0.84361\u001b[0m\n",
      "\u001b[34m[83]#011train-auc:0.88410#011validation-auc:0.84317\u001b[0m\n",
      "\u001b[34m[84]#011train-auc:0.88476#011validation-auc:0.84287\u001b[0m\n",
      "\u001b[34m[85]#011train-auc:0.88554#011validation-auc:0.84244\u001b[0m\n",
      "\u001b[34m[86]#011train-auc:0.88590#011validation-auc:0.84255\u001b[0m\n",
      "\u001b[34m[87]#011train-auc:0.88612#011validation-auc:0.84211\u001b[0m\n",
      "\u001b[34m[88]#011train-auc:0.88639#011validation-auc:0.84242\u001b[0m\n",
      "\u001b[34m[89]#011train-auc:0.88660#011validation-auc:0.84305\u001b[0m\n",
      "\u001b[34m[90]#011train-auc:0.88689#011validation-auc:0.84285\u001b[0m\n",
      "\u001b[34m[91]#011train-auc:0.88682#011validation-auc:0.84300\u001b[0m\n",
      "\u001b[34m[92]#011train-auc:0.88708#011validation-auc:0.84314\u001b[0m\n",
      "\u001b[34m[93]#011train-auc:0.88712#011validation-auc:0.84245\u001b[0m\n",
      "\u001b[34m[94]#011train-auc:0.88751#011validation-auc:0.84265\u001b[0m\n",
      "\u001b[34m[95]#011train-auc:0.88796#011validation-auc:0.84336\u001b[0m\n",
      "\u001b[34m[96]#011train-auc:0.88825#011validation-auc:0.84369\u001b[0m\n",
      "\u001b[34m[97]#011train-auc:0.88874#011validation-auc:0.84533\u001b[0m\n",
      "\u001b[34m[98]#011train-auc:0.88966#011validation-auc:0.84498\u001b[0m\n",
      "\u001b[34m[99]#011train-auc:0.88998#011validation-auc:0.84512\u001b[0m\n",
      "\n",
      "2021-03-02 06:11:04 Completed - Training job completed\n",
      "Training seconds: 41\n",
      "Billable seconds: 41\n"
     ]
    }
   ],
   "source": [
    "xgb.fit({'train': s3_input_train, 'validation': s3_input_validation})"
   ]
  },
  {
   "cell_type": "code",
   "execution_count": 17,
   "metadata": {},
   "outputs": [
    {
     "data": {
      "text/plain": [
       "{'DataSource': {'S3DataSource': {'S3DataType': 'S3Prefix',\n",
       "   'S3Uri': 's3://sagemaker-ap-northeast-2-227927015541/sagemaker/videogames-xgboost/train',\n",
       "   'S3DataDistributionType': 'FullyReplicated'}},\n",
       " 'ContentType': 'libsvm'}"
      ]
     },
     "execution_count": 17,
     "metadata": {},
     "output_type": "execute_result"
    }
   ],
   "source": [
    "s3_input_train.config"
   ]
  },
  {
   "cell_type": "markdown",
   "metadata": {},
   "source": [
    "---\n",
    "## 호스트\n",
    "\n",
    "이제 우리의 데이터로 XGBoost 알고리즘으로 훈련이 되었으므로, 훈련된 모델을 Amazon SageMaker에서 호스팅된 endpoint에 다음과 같은 간단한 코드 한줄로 배포가 가능합니다.  "
   ]
  },
  {
   "cell_type": "code",
   "execution_count": 18,
   "metadata": {},
   "outputs": [],
   "source": [
    "xgb_predictor = xgb.deploy(initial_instance_count=1,\n",
    "                           instance_type='ml.m5.xlarge',wait=False)"
   ]
  },
  {
   "cell_type": "markdown",
   "metadata": {},
   "source": [
    "---\n",
    "\n",
    "## 평가\n",
    "\n",
    "이제 우리가 호스팅하는 endpoint가 있으므로, 우리는 이것으로 예측을 생성할 수 있습니다. 보다 구체적으로, 우리의 모델이 아직 보지 못한 데이터를 얼마나 잘 생성하는지 이해하기 위해서 테스트 데이터셋에서 예측을 생성해 보기로 하겠습니다. \n",
    "\n",
    "기계학습 모델의 성ㅇ능 비교하기 위한 많은 방법이 있습니다. 우리는 간단히 게임이 \"hit\" (`1`) 이거나 혹은 아니인지(`0`)에 대한 실제와 예측 값을 비교할 것입니다. 그 다음 혼동 행렬을 만들어서 모델이 각 범주에서 얼마나 많은 테스트 데이터의 포인트 수를 예측했는지와 얼마나 많은 테스트 데이터의 포인트가 실제 각 범주에 속했는지를 볼 것입니다. "
   ]
  },
  {
   "cell_type": "markdown",
   "metadata": {},
   "source": [
    "- 실시간 추론을 위해서 앞단계에서 생성한 실시간 호스팅 endpoint를 가져온다.\n",
    "- Sagemaker 콘솔 네비게이션 바에서 엔드포인트를 클릭한 후 엔드포인트 이름을 COPY"
   ]
  },
  {
   "cell_type": "code",
   "execution_count": 19,
   "metadata": {},
   "outputs": [],
   "source": [
    "from sagemaker.predictor import RealTimePredictor"
   ]
  },
  {
   "cell_type": "code",
   "execution_count": 20,
   "metadata": {},
   "outputs": [
    {
     "name": "stderr",
     "output_type": "stream",
     "text": [
      "The class RealTimePredictor has been renamed in sagemaker>=2.\n",
      "See: https://sagemaker.readthedocs.io/en/stable/v2.html for details.\n",
      "content_type is a no-op in sagemaker>=2.\n",
      "See: https://sagemaker.readthedocs.io/en/stable/v2.html for details.\n"
     ]
    },
    {
     "ename": "ClientError",
     "evalue": "An error occurred (ValidationException) when calling the DescribeEndpoint operation: 1 validation error detected: Value '<COPY된 ENDPOINT NAME>' at 'endpointName' failed to satisfy constraint: Member must satisfy regular expression pattern: ^[a-zA-Z0-9](-*[a-zA-Z0-9]){0,62}",
     "output_type": "error",
     "traceback": [
      "\u001b[0;31m---------------------------------------------------------------------------\u001b[0m",
      "\u001b[0;31mClientError\u001b[0m                               Traceback (most recent call last)",
      "\u001b[0;32m<ipython-input-20-1a211ebb5e16>\u001b[0m in \u001b[0;36m<module>\u001b[0;34m\u001b[0m\n\u001b[0;32m----> 1\u001b[0;31m \u001b[0mxgb_predictor\u001b[0m \u001b[0;34m=\u001b[0m \u001b[0mRealTimePredictor\u001b[0m\u001b[0;34m(\u001b[0m\u001b[0mendpoint_name\u001b[0m \u001b[0;34m=\u001b[0m \u001b[0;34m'<COPY된 ENDPOINT NAME>'\u001b[0m\u001b[0;34m,\u001b[0m \u001b[0msagemaker_session\u001b[0m\u001b[0;34m=\u001b[0m\u001b[0msession\u001b[0m\u001b[0;34m,\u001b[0m \u001b[0mcontent_type\u001b[0m \u001b[0;34m=\u001b[0m \u001b[0;34m'libsvm'\u001b[0m\u001b[0;34m)\u001b[0m\u001b[0;34m\u001b[0m\u001b[0;34m\u001b[0m\u001b[0m\n\u001b[0m",
      "\u001b[0;32m~/anaconda3/envs/python3/lib/python3.6/site-packages/sagemaker/deprecations.py\u001b[0m in \u001b[0;36m__init__\u001b[0;34m(self, *args, **kwargs)\u001b[0m\n\u001b[1;32m    170\u001b[0m             \u001b[0;34m\"\"\"Provides a warning for the class name.\"\"\"\u001b[0m\u001b[0;34m\u001b[0m\u001b[0;34m\u001b[0m\u001b[0m\n\u001b[1;32m    171\u001b[0m             \u001b[0mrenamed_warning\u001b[0m\u001b[0;34m(\u001b[0m\u001b[0;34mf\"The class {name}\"\u001b[0m\u001b[0;34m)\u001b[0m\u001b[0;34m\u001b[0m\u001b[0;34m\u001b[0m\u001b[0m\n\u001b[0;32m--> 172\u001b[0;31m             \u001b[0msuper\u001b[0m\u001b[0;34m(\u001b[0m\u001b[0mDeprecatedClass\u001b[0m\u001b[0;34m,\u001b[0m \u001b[0mself\u001b[0m\u001b[0;34m)\u001b[0m\u001b[0;34m.\u001b[0m\u001b[0m__init__\u001b[0m\u001b[0;34m(\u001b[0m\u001b[0;34m*\u001b[0m\u001b[0margs\u001b[0m\u001b[0;34m,\u001b[0m \u001b[0;34m**\u001b[0m\u001b[0mkwargs\u001b[0m\u001b[0;34m)\u001b[0m\u001b[0;34m\u001b[0m\u001b[0;34m\u001b[0m\u001b[0m\n\u001b[0m\u001b[1;32m    173\u001b[0m \u001b[0;34m\u001b[0m\u001b[0m\n\u001b[1;32m    174\u001b[0m     \u001b[0;32mreturn\u001b[0m \u001b[0mDeprecatedClass\u001b[0m\u001b[0;34m\u001b[0m\u001b[0;34m\u001b[0m\u001b[0m\n",
      "\u001b[0;32m~/anaconda3/envs/python3/lib/python3.6/site-packages/sagemaker/predictor.py\u001b[0m in \u001b[0;36m__init__\u001b[0;34m(self, endpoint_name, sagemaker_session, serializer, deserializer, **kwargs)\u001b[0m\n\u001b[1;32m     92\u001b[0m         \u001b[0mself\u001b[0m\u001b[0;34m.\u001b[0m\u001b[0mserializer\u001b[0m \u001b[0;34m=\u001b[0m \u001b[0mserializer\u001b[0m\u001b[0;34m\u001b[0m\u001b[0;34m\u001b[0m\u001b[0m\n\u001b[1;32m     93\u001b[0m         \u001b[0mself\u001b[0m\u001b[0;34m.\u001b[0m\u001b[0mdeserializer\u001b[0m \u001b[0;34m=\u001b[0m \u001b[0mdeserializer\u001b[0m\u001b[0;34m\u001b[0m\u001b[0;34m\u001b[0m\u001b[0m\n\u001b[0;32m---> 94\u001b[0;31m         \u001b[0mself\u001b[0m\u001b[0;34m.\u001b[0m\u001b[0m_endpoint_config_name\u001b[0m \u001b[0;34m=\u001b[0m \u001b[0mself\u001b[0m\u001b[0;34m.\u001b[0m\u001b[0m_get_endpoint_config_name\u001b[0m\u001b[0;34m(\u001b[0m\u001b[0;34m)\u001b[0m\u001b[0;34m\u001b[0m\u001b[0;34m\u001b[0m\u001b[0m\n\u001b[0m\u001b[1;32m     95\u001b[0m         \u001b[0mself\u001b[0m\u001b[0;34m.\u001b[0m\u001b[0m_model_names\u001b[0m \u001b[0;34m=\u001b[0m \u001b[0mself\u001b[0m\u001b[0;34m.\u001b[0m\u001b[0m_get_model_names\u001b[0m\u001b[0;34m(\u001b[0m\u001b[0;34m)\u001b[0m\u001b[0;34m\u001b[0m\u001b[0;34m\u001b[0m\u001b[0m\n\u001b[1;32m     96\u001b[0m         \u001b[0mself\u001b[0m\u001b[0;34m.\u001b[0m\u001b[0m_context\u001b[0m \u001b[0;34m=\u001b[0m \u001b[0;32mNone\u001b[0m\u001b[0;34m\u001b[0m\u001b[0;34m\u001b[0m\u001b[0m\n",
      "\u001b[0;32m~/anaconda3/envs/python3/lib/python3.6/site-packages/sagemaker/predictor.py\u001b[0m in \u001b[0;36m_get_endpoint_config_name\u001b[0;34m(self)\u001b[0m\n\u001b[1;32m    458\u001b[0m         \u001b[0;34m\"\"\"Placeholder docstring\"\"\"\u001b[0m\u001b[0;34m\u001b[0m\u001b[0;34m\u001b[0m\u001b[0m\n\u001b[1;32m    459\u001b[0m         endpoint_desc = self.sagemaker_session.sagemaker_client.describe_endpoint(\n\u001b[0;32m--> 460\u001b[0;31m             \u001b[0mEndpointName\u001b[0m\u001b[0;34m=\u001b[0m\u001b[0mself\u001b[0m\u001b[0;34m.\u001b[0m\u001b[0mendpoint_name\u001b[0m\u001b[0;34m\u001b[0m\u001b[0;34m\u001b[0m\u001b[0m\n\u001b[0m\u001b[1;32m    461\u001b[0m         )\n\u001b[1;32m    462\u001b[0m         \u001b[0mendpoint_config_name\u001b[0m \u001b[0;34m=\u001b[0m \u001b[0mendpoint_desc\u001b[0m\u001b[0;34m[\u001b[0m\u001b[0;34m\"EndpointConfigName\"\u001b[0m\u001b[0;34m]\u001b[0m\u001b[0;34m\u001b[0m\u001b[0;34m\u001b[0m\u001b[0m\n",
      "\u001b[0;32m~/anaconda3/envs/python3/lib/python3.6/site-packages/botocore/client.py\u001b[0m in \u001b[0;36m_api_call\u001b[0;34m(self, *args, **kwargs)\u001b[0m\n\u001b[1;32m    355\u001b[0m                     \"%s() only accepts keyword arguments.\" % py_operation_name)\n\u001b[1;32m    356\u001b[0m             \u001b[0;31m# The \"self\" in this scope is referring to the BaseClient.\u001b[0m\u001b[0;34m\u001b[0m\u001b[0;34m\u001b[0m\u001b[0;34m\u001b[0m\u001b[0m\n\u001b[0;32m--> 357\u001b[0;31m             \u001b[0;32mreturn\u001b[0m \u001b[0mself\u001b[0m\u001b[0;34m.\u001b[0m\u001b[0m_make_api_call\u001b[0m\u001b[0;34m(\u001b[0m\u001b[0moperation_name\u001b[0m\u001b[0;34m,\u001b[0m \u001b[0mkwargs\u001b[0m\u001b[0;34m)\u001b[0m\u001b[0;34m\u001b[0m\u001b[0;34m\u001b[0m\u001b[0m\n\u001b[0m\u001b[1;32m    358\u001b[0m \u001b[0;34m\u001b[0m\u001b[0m\n\u001b[1;32m    359\u001b[0m         \u001b[0m_api_call\u001b[0m\u001b[0;34m.\u001b[0m\u001b[0m__name__\u001b[0m \u001b[0;34m=\u001b[0m \u001b[0mstr\u001b[0m\u001b[0;34m(\u001b[0m\u001b[0mpy_operation_name\u001b[0m\u001b[0;34m)\u001b[0m\u001b[0;34m\u001b[0m\u001b[0;34m\u001b[0m\u001b[0m\n",
      "\u001b[0;32m~/anaconda3/envs/python3/lib/python3.6/site-packages/botocore/client.py\u001b[0m in \u001b[0;36m_make_api_call\u001b[0;34m(self, operation_name, api_params)\u001b[0m\n\u001b[1;32m    674\u001b[0m             \u001b[0merror_code\u001b[0m \u001b[0;34m=\u001b[0m \u001b[0mparsed_response\u001b[0m\u001b[0;34m.\u001b[0m\u001b[0mget\u001b[0m\u001b[0;34m(\u001b[0m\u001b[0;34m\"Error\"\u001b[0m\u001b[0;34m,\u001b[0m \u001b[0;34m{\u001b[0m\u001b[0;34m}\u001b[0m\u001b[0;34m)\u001b[0m\u001b[0;34m.\u001b[0m\u001b[0mget\u001b[0m\u001b[0;34m(\u001b[0m\u001b[0;34m\"Code\"\u001b[0m\u001b[0;34m)\u001b[0m\u001b[0;34m\u001b[0m\u001b[0;34m\u001b[0m\u001b[0m\n\u001b[1;32m    675\u001b[0m             \u001b[0merror_class\u001b[0m \u001b[0;34m=\u001b[0m \u001b[0mself\u001b[0m\u001b[0;34m.\u001b[0m\u001b[0mexceptions\u001b[0m\u001b[0;34m.\u001b[0m\u001b[0mfrom_code\u001b[0m\u001b[0;34m(\u001b[0m\u001b[0merror_code\u001b[0m\u001b[0;34m)\u001b[0m\u001b[0;34m\u001b[0m\u001b[0;34m\u001b[0m\u001b[0m\n\u001b[0;32m--> 676\u001b[0;31m             \u001b[0;32mraise\u001b[0m \u001b[0merror_class\u001b[0m\u001b[0;34m(\u001b[0m\u001b[0mparsed_response\u001b[0m\u001b[0;34m,\u001b[0m \u001b[0moperation_name\u001b[0m\u001b[0;34m)\u001b[0m\u001b[0;34m\u001b[0m\u001b[0;34m\u001b[0m\u001b[0m\n\u001b[0m\u001b[1;32m    677\u001b[0m         \u001b[0;32melse\u001b[0m\u001b[0;34m:\u001b[0m\u001b[0;34m\u001b[0m\u001b[0;34m\u001b[0m\u001b[0m\n\u001b[1;32m    678\u001b[0m             \u001b[0;32mreturn\u001b[0m \u001b[0mparsed_response\u001b[0m\u001b[0;34m\u001b[0m\u001b[0;34m\u001b[0m\u001b[0m\n",
      "\u001b[0;31mClientError\u001b[0m: An error occurred (ValidationException) when calling the DescribeEndpoint operation: 1 validation error detected: Value '<COPY된 ENDPOINT NAME>' at 'endpointName' failed to satisfy constraint: Member must satisfy regular expression pattern: ^[a-zA-Z0-9](-*[a-zA-Z0-9]){0,62}"
     ]
    }
   ],
   "source": [
    "xgb_predictor = RealTimePredictor(endpoint_name = '<COPY된 ENDPOINT NAME>', sagemaker_session=session, content_type = 'libsvm')"
   ]
  },
  {
   "cell_type": "code",
   "execution_count": null,
   "metadata": {},
   "outputs": [],
   "source": [
    "def do_predict(data):\n",
    "    payload = '\\n'.join(data)\n",
    "    response = xgb_predictor.predict(payload, initial_args={'ContentType': 'text/x-libsvm'}).decode('utf-8')\n",
    "    result = response.split(',')\n",
    "    preds = [float((num)) for num in result]\n",
    "    preds = [round(num) for num in preds]\n",
    "\n",
    "    return preds\n",
    "\n",
    "def batch_predict(data, batch_size):\n",
    "    items = len(data)\n",
    "    arrs = []\n",
    "    \n",
    "    for offset in range(0, items, batch_size):\n",
    "        if offset+batch_size < items:\n",
    "            results = do_predict(data[offset:(offset+batch_size)])\n",
    "            arrs.extend(results)\n",
    "        else:\n",
    "            arrs.extend(do_predict(data[offset:items]))\n",
    "        sys.stdout.write('.')\n",
    "    return(arrs)"
   ]
  },
  {
   "cell_type": "code",
   "execution_count": null,
   "metadata": {},
   "outputs": [],
   "source": [
    "%%time\n",
    "import json\n",
    "\n",
    "with open('test.libsvm', 'r') as f:\n",
    "    payload = f.read().strip()\n",
    "\n",
    "labels = [int(line.split(' ')[0]) for line in payload.split('\\n')]\n",
    "test_data = [line for line in payload.split('\\n')]\n",
    "preds = batch_predict(test_data, 100)\n",
    "\n",
    "print ('\\nerror rate=%f' % ( sum(1 for i in range(len(preds)) if preds[i]!=labels[i]) /float(len(preds))))"
   ]
  },
  {
   "cell_type": "code",
   "execution_count": null,
   "metadata": {},
   "outputs": [],
   "source": [
    "pd.crosstab(index=np.array(labels), columns=np.array(preds))"
   ]
  },
  {
   "cell_type": "markdown",
   "metadata": {},
   "source": [
    "우리의 매트릭에 의해 테스트셋에서 \"hits\"인 것은 132개의 게임이었고, 모델은 정확히 70개가 넘게 식별했습니다. 반면 대략적인 에러율은 13%입니다. False Negative와 True Positive의 양은 하이퍼파라미터의 scale_pos_weight 값을 증가시킴으로서 True Positive로 유리하게 이동될 수 있습니다. 물론 이러한 증가는 정확도 감소와 에러율 증가, 그리고 추가적인 False Positive를 초래할 수 있습니다. 이러한 trade-off를 궁극적으로 어떻게 할것인가는 False Positive와 False Negative 등의 상대적 비용에 기반한 비즈니스상의 결정입니다.  "
   ]
  },
  {
   "cell_type": "markdown",
   "metadata": {},
   "source": [
    "---\n",
    "## 확장\n",
    "\n",
    "이 XGBoost 모델은 게임이 리뷰와 다른 특성을 기반으로 하여 hit가 될지 여부를 에측하기 위한 출발점일 뿐입니다. 모델 성능을 향상하기위한 몇개의 가능한 방법이 있습니다. 첫째로, 우선 더 많은 데이터를 모아야 하고 가능하면 기존 누락 필드를 실제 정보로 채워야만 합니다. 또다른 가능성은 Amazon SageMaker의 Automatic Model Tuning기능을 이용한 추가적인 하이퍼파라미터 튜닝입니다. 이 기능의 예제는 [hyperparameter tuning directory of the SageMaker Examples GitHub repository](https://github.com/awslabs/amazon-sagemaker-examples/tree/master/hyperparameter_tuning) 와 Amazon SageMaker 노트북 인스턴스의 **SageMaker Examples** 탭에서 찾을 수 있습니다. 또한 앙상블 학습은 종종 불균형 데이터셋을 잘 처리하지만 다운샘플링이나 합성 데이터증강이나 다른 접근법과 같은, 불균형을 완화할 수 있는 기술을 살펴볼 가치가 있을 수 있습니다. \n",
    ".  \n",
    "\n",
    "---\n",
    "## 정리\n",
    "\n",
    "이 노트북이 끝나면 아래 셀을 실행시켜 주세요. 이것은 생성했던 endpoint를 제거하여 남겨진 유휴인스턴스에 요금이 발생되지 않도록 하기 위합니다.\n"
   ]
  },
  {
   "cell_type": "code",
   "execution_count": null,
   "metadata": {},
   "outputs": [],
   "source": [
    "session.delete_endpoint(xgb_predictor.endpoint)"
   ]
  },
  {
   "cell_type": "code",
   "execution_count": null,
   "metadata": {},
   "outputs": [],
   "source": []
  }
 ],
 "metadata": {
  "instance_type": "ml.t3.medium",
  "kernelspec": {
   "display_name": "Python 3 (Data Science)",
   "language": "python",
   "name": "python3__SAGEMAKER_INTERNAL__arn:aws:sagemaker:ap-northeast-2:806072073708:image/datascience-1.0"
  },
  "language_info": {
   "codemirror_mode": {
    "name": "ipython",
    "version": 3
   },
   "file_extension": ".py",
   "mimetype": "text/x-python",
   "name": "python",
   "nbconvert_exporter": "python",
   "pygments_lexer": "ipython3",
   "version": "3.7.6"
  },
  "notice": "Copyright 2017 Amazon.com, Inc. or its affiliates. All Rights Reserved.  Licensed under the Apache License, Version 2.0 (the \"License\"). You may not use this file except in compliance with the License. A copy of the License is located at http://aws.amazon.com/apache2.0/ or in the \"license\" file accompanying this file. This file is distributed on an \"AS IS\" BASIS, WITHOUT WARRANTIES OR CONDITIONS OF ANY KIND, either express or implied. See the License for the specific language governing permissions and limitations under the License."
 },
 "nbformat": 4,
 "nbformat_minor": 4
}
